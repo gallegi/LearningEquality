{
 "cells": [
  {
   "cell_type": "code",
   "execution_count": 26,
   "metadata": {},
   "outputs": [],
   "source": [
    "import pandas as pd\n",
    "from tqdm.auto import tqdm"
   ]
  },
  {
   "cell_type": "code",
   "execution_count": 2,
   "metadata": {},
   "outputs": [],
   "source": [
    "df = pd.read_csv('data/pair_data.csv')"
   ]
  },
  {
   "cell_type": "code",
   "execution_count": 3,
   "metadata": {},
   "outputs": [],
   "source": [
    "topic_df = pd.read_csv('data/topics.csv')\n",
    "content_df = pd.read_csv('data/content.csv')"
   ]
  },
  {
   "cell_type": "code",
   "execution_count": 4,
   "metadata": {},
   "outputs": [],
   "source": [
    "content_id_title_map = content_df.set_index('id')['title'].to_dict()\n",
    "topic_id_title_map = topic_df.set_index('id')['title'].to_dict()"
   ]
  },
  {
   "cell_type": "code",
   "execution_count": 5,
   "metadata": {},
   "outputs": [
    {
     "data": {
      "text/plain": [
       "61517"
      ]
     },
     "execution_count": 5,
     "metadata": {},
     "output_type": "execute_result"
    }
   ],
   "source": [
    "# number of topics\n",
    "len(df)"
   ]
  },
  {
   "cell_type": "code",
   "execution_count": 6,
   "metadata": {},
   "outputs": [],
   "source": [
    "df['num_pos'] = df.content_ids.map(lambda x: len(x.split(' ')))\n",
    "df['num_neg'] = df.negative_content_ids.map(lambda x: len(x.split(' ')) if not pd.isnull(x) else 0)"
   ]
  },
  {
   "cell_type": "code",
   "execution_count": 7,
   "metadata": {},
   "outputs": [
    {
     "data": {
      "text/plain": [
       "279919"
      ]
     },
     "execution_count": 7,
     "metadata": {},
     "output_type": "execute_result"
    }
   ],
   "source": [
    "df['num_pos'].sum()"
   ]
  },
  {
   "cell_type": "code",
   "execution_count": 8,
   "metadata": {},
   "outputs": [
    {
     "data": {
      "text/plain": [
       "1173241"
      ]
     },
     "execution_count": 8,
     "metadata": {},
     "output_type": "execute_result"
    }
   ],
   "source": [
    "df['num_neg'].sum()"
   ]
  },
  {
   "cell_type": "code",
   "execution_count": 10,
   "metadata": {},
   "outputs": [
    {
     "data": {
      "text/html": [
       "<div>\n",
       "<style scoped>\n",
       "    .dataframe tbody tr th:only-of-type {\n",
       "        vertical-align: middle;\n",
       "    }\n",
       "\n",
       "    .dataframe tbody tr th {\n",
       "        vertical-align: top;\n",
       "    }\n",
       "\n",
       "    .dataframe thead th {\n",
       "        text-align: right;\n",
       "    }\n",
       "</style>\n",
       "<table border=\"1\" class=\"dataframe\">\n",
       "  <thead>\n",
       "    <tr style=\"text-align: right;\">\n",
       "      <th></th>\n",
       "      <th>topic_id</th>\n",
       "      <th>content_ids</th>\n",
       "      <th>negative_content_ids</th>\n",
       "      <th>score_negatives</th>\n",
       "      <th>num_pos</th>\n",
       "      <th>num_neg</th>\n",
       "    </tr>\n",
       "  </thead>\n",
       "  <tbody>\n",
       "    <tr>\n",
       "      <th>0</th>\n",
       "      <td>t_00004da3a1b2</td>\n",
       "      <td>c_1108dd0c7a5d c_376c5a8eb028 c_5bc0e1e2cba0 c...</td>\n",
       "      <td>c_27805efa8f05 c_f176727c6899 c_f128e8137445 c...</td>\n",
       "      <td>2.0358248 1.8792031 1.9632967 2.2078516 1.9087...</td>\n",
       "      <td>4</td>\n",
       "      <td>20</td>\n",
       "    </tr>\n",
       "    <tr>\n",
       "      <th>1</th>\n",
       "      <td>t_00068291e9a4</td>\n",
       "      <td>c_639ea2ef9c95 c_89ce9367be10 c_ac1672cdcd2c c...</td>\n",
       "      <td>c_a8b58676dd52 c_0e1ee4cc91c5 c_98ccf251c863 c...</td>\n",
       "      <td>2.224468 2.233823 2.2474635 2.306077 2.2626696...</td>\n",
       "      <td>4</td>\n",
       "      <td>20</td>\n",
       "    </tr>\n",
       "    <tr>\n",
       "      <th>2</th>\n",
       "      <td>t_00069b63a70a</td>\n",
       "      <td>c_11a1dc0bfb99</td>\n",
       "      <td>c_fac629ee0e31 c_8361130de2a0 c_f44647ff1797 c...</td>\n",
       "      <td>2.2904983 1.8679115 2.3206046 1.757813 2.24606...</td>\n",
       "      <td>1</td>\n",
       "      <td>20</td>\n",
       "    </tr>\n",
       "    <tr>\n",
       "      <th>3</th>\n",
       "      <td>t_0006d41a73a8</td>\n",
       "      <td>c_0c6473c3480d c_1c57a1316568 c_5e375cf14c47 c...</td>\n",
       "      <td>c_d776ef1186c0 c_fcb4cb5c1639 c_8adc09a72dc5 c...</td>\n",
       "      <td>2.439308 2.5001316 2.4520617 2.4789743 2.45769...</td>\n",
       "      <td>5</td>\n",
       "      <td>20</td>\n",
       "    </tr>\n",
       "    <tr>\n",
       "      <th>4</th>\n",
       "      <td>t_0008768bdee6</td>\n",
       "      <td>c_34e1424229b4 c_7d1a964d66d5 c_aab93ee667f4</td>\n",
       "      <td>c_4fa38f97cd23 c_34bdd9059500 c_94e13b30c098 c...</td>\n",
       "      <td>2.449342 2.5471208 2.5908763 2.859213 2.490837...</td>\n",
       "      <td>3</td>\n",
       "      <td>20</td>\n",
       "    </tr>\n",
       "    <tr>\n",
       "      <th>...</th>\n",
       "      <td>...</td>\n",
       "      <td>...</td>\n",
       "      <td>...</td>\n",
       "      <td>...</td>\n",
       "      <td>...</td>\n",
       "      <td>...</td>\n",
       "    </tr>\n",
       "    <tr>\n",
       "      <th>61512</th>\n",
       "      <td>t_fff830472691</td>\n",
       "      <td>c_61fb63326e5d c_8f224e321c87</td>\n",
       "      <td>c_27cb05ee7d70 c_a3ca1a16a03d c_d1861e837fde c...</td>\n",
       "      <td>2.0429325 2.032765 1.9975747 2.0870557 2.04101...</td>\n",
       "      <td>2</td>\n",
       "      <td>18</td>\n",
       "    </tr>\n",
       "    <tr>\n",
       "      <th>61513</th>\n",
       "      <td>t_fff9e5407d13</td>\n",
       "      <td>c_026db653a269 c_0fb048a6412c c_20de77522603 c...</td>\n",
       "      <td>c_e1ef19ee9a52 c_a8411d9a68c4 c_1aab6afc3fc8 c...</td>\n",
       "      <td>1.9265834 1.9903316 1.8327581 1.8609569 1.9316...</td>\n",
       "      <td>10</td>\n",
       "      <td>20</td>\n",
       "    </tr>\n",
       "    <tr>\n",
       "      <th>61514</th>\n",
       "      <td>t_fffbe1d5d43c</td>\n",
       "      <td>c_46f852a49c08 c_6659207b25d5</td>\n",
       "      <td>c_e69642e64f9b c_508b4cbfa41e c_f09b32ab8bd8 c...</td>\n",
       "      <td>2.378184 2.2451966 2.3500276 2.6943378 2.27775...</td>\n",
       "      <td>2</td>\n",
       "      <td>20</td>\n",
       "    </tr>\n",
       "    <tr>\n",
       "      <th>61515</th>\n",
       "      <td>t_fffe14f1be1e</td>\n",
       "      <td>c_cece166bad6a</td>\n",
       "      <td>c_54fc13b8be96 c_0aff2d6967d9 c_15c2182d7171 c...</td>\n",
       "      <td>3.1012251 3.1012251 3.1012251 3.1012251 3.1012...</td>\n",
       "      <td>1</td>\n",
       "      <td>20</td>\n",
       "    </tr>\n",
       "    <tr>\n",
       "      <th>61516</th>\n",
       "      <td>t_fffe811a6da9</td>\n",
       "      <td>c_92b8fad372ee</td>\n",
       "      <td>c_89135dd435e7 c_68837762b1d3 c_f642ca8daabe c...</td>\n",
       "      <td>2.2706707 2.2596416 2.2960844 2.2895608 2.3083...</td>\n",
       "      <td>1</td>\n",
       "      <td>20</td>\n",
       "    </tr>\n",
       "  </tbody>\n",
       "</table>\n",
       "<p>61517 rows × 6 columns</p>\n",
       "</div>"
      ],
      "text/plain": [
       "             topic_id                                        content_ids  \\\n",
       "0      t_00004da3a1b2  c_1108dd0c7a5d c_376c5a8eb028 c_5bc0e1e2cba0 c...   \n",
       "1      t_00068291e9a4  c_639ea2ef9c95 c_89ce9367be10 c_ac1672cdcd2c c...   \n",
       "2      t_00069b63a70a                                     c_11a1dc0bfb99   \n",
       "3      t_0006d41a73a8  c_0c6473c3480d c_1c57a1316568 c_5e375cf14c47 c...   \n",
       "4      t_0008768bdee6       c_34e1424229b4 c_7d1a964d66d5 c_aab93ee667f4   \n",
       "...               ...                                                ...   \n",
       "61512  t_fff830472691                      c_61fb63326e5d c_8f224e321c87   \n",
       "61513  t_fff9e5407d13  c_026db653a269 c_0fb048a6412c c_20de77522603 c...   \n",
       "61514  t_fffbe1d5d43c                      c_46f852a49c08 c_6659207b25d5   \n",
       "61515  t_fffe14f1be1e                                     c_cece166bad6a   \n",
       "61516  t_fffe811a6da9                                     c_92b8fad372ee   \n",
       "\n",
       "                                    negative_content_ids  \\\n",
       "0      c_27805efa8f05 c_f176727c6899 c_f128e8137445 c...   \n",
       "1      c_a8b58676dd52 c_0e1ee4cc91c5 c_98ccf251c863 c...   \n",
       "2      c_fac629ee0e31 c_8361130de2a0 c_f44647ff1797 c...   \n",
       "3      c_d776ef1186c0 c_fcb4cb5c1639 c_8adc09a72dc5 c...   \n",
       "4      c_4fa38f97cd23 c_34bdd9059500 c_94e13b30c098 c...   \n",
       "...                                                  ...   \n",
       "61512  c_27cb05ee7d70 c_a3ca1a16a03d c_d1861e837fde c...   \n",
       "61513  c_e1ef19ee9a52 c_a8411d9a68c4 c_1aab6afc3fc8 c...   \n",
       "61514  c_e69642e64f9b c_508b4cbfa41e c_f09b32ab8bd8 c...   \n",
       "61515  c_54fc13b8be96 c_0aff2d6967d9 c_15c2182d7171 c...   \n",
       "61516  c_89135dd435e7 c_68837762b1d3 c_f642ca8daabe c...   \n",
       "\n",
       "                                         score_negatives  num_pos  num_neg  \n",
       "0      2.0358248 1.8792031 1.9632967 2.2078516 1.9087...        4       20  \n",
       "1      2.224468 2.233823 2.2474635 2.306077 2.2626696...        4       20  \n",
       "2      2.2904983 1.8679115 2.3206046 1.757813 2.24606...        1       20  \n",
       "3      2.439308 2.5001316 2.4520617 2.4789743 2.45769...        5       20  \n",
       "4      2.449342 2.5471208 2.5908763 2.859213 2.490837...        3       20  \n",
       "...                                                  ...      ...      ...  \n",
       "61512  2.0429325 2.032765 1.9975747 2.0870557 2.04101...        2       18  \n",
       "61513  1.9265834 1.9903316 1.8327581 1.8609569 1.9316...       10       20  \n",
       "61514  2.378184 2.2451966 2.3500276 2.6943378 2.27775...        2       20  \n",
       "61515  3.1012251 3.1012251 3.1012251 3.1012251 3.1012...        1       20  \n",
       "61516  2.2706707 2.2596416 2.2960844 2.2895608 2.3083...        1       20  \n",
       "\n",
       "[61517 rows x 6 columns]"
      ]
     },
     "execution_count": 10,
     "metadata": {},
     "output_type": "execute_result"
    }
   ],
   "source": [
    "df"
   ]
  },
  {
   "cell_type": "code",
   "execution_count": 29,
   "metadata": {},
   "outputs": [
    {
     "name": "stderr",
     "output_type": "stream",
     "text": [
      "100%|██████████| 61517/61517 [00:24<00:00, 2467.79it/s]\n"
     ]
    }
   ],
   "source": [
    "selected_contents = []\n",
    "seletected_topics = []\n",
    "labels = []\n",
    "\n",
    "for i, row in tqdm(df.iterrows(), total=len(df)):\n",
    "    content_ids = row['content_ids']\n",
    "    topic_id = row['topic_id']\n",
    "    content_id = content_ids.split(' ')[0]\n",
    "    selected_contents.append(content_id)\n",
    "    seletected_topics.append(topic_id)\n",
    "    labels.append(1)\n",
    "\n",
    "    if pd.notnull( row['negative_content_ids']):\n",
    "        neg_content_ids = row['negative_content_ids'].split(' ')\n",
    "        neg_scores = row['score_negatives'].split(' ')\n",
    "\n",
    "        neg_df = pd.DataFrame({'id': neg_content_ids, 'score':neg_scores})\n",
    "        neg_df.columns = ['id', 'score']\n",
    "        neg_df = neg_df.sort_values('score', ascending=False)\n",
    "        neg_content_id = neg_df['id'].iloc[0]\n",
    "        selected_contents.append(neg_content_id)\n",
    "        seletected_topics.append(topic_id)\n",
    "        labels.append(0)\n",
    "    # break"
   ]
  },
  {
   "cell_type": "code",
   "execution_count": 30,
   "metadata": {},
   "outputs": [],
   "source": [
    "df = pd.DataFrame({'topic_id':seletected_topics, 'content_id':selected_contents, 'match':labels})"
   ]
  },
  {
   "cell_type": "code",
   "execution_count": 43,
   "metadata": {},
   "outputs": [
    {
     "data": {
      "text/html": [
       "<div>\n",
       "<style scoped>\n",
       "    .dataframe tbody tr th:only-of-type {\n",
       "        vertical-align: middle;\n",
       "    }\n",
       "\n",
       "    .dataframe tbody tr th {\n",
       "        vertical-align: top;\n",
       "    }\n",
       "\n",
       "    .dataframe thead th {\n",
       "        text-align: right;\n",
       "    }\n",
       "</style>\n",
       "<table border=\"1\" class=\"dataframe\">\n",
       "  <thead>\n",
       "    <tr style=\"text-align: right;\">\n",
       "      <th></th>\n",
       "      <th>topic_id</th>\n",
       "      <th>content_id</th>\n",
       "      <th>match</th>\n",
       "      <th>fold</th>\n",
       "    </tr>\n",
       "  </thead>\n",
       "  <tbody>\n",
       "    <tr>\n",
       "      <th>0</th>\n",
       "      <td>t_00004da3a1b2</td>\n",
       "      <td>c_1108dd0c7a5d</td>\n",
       "      <td>1</td>\n",
       "      <td>1.0</td>\n",
       "    </tr>\n",
       "    <tr>\n",
       "      <th>1</th>\n",
       "      <td>t_00004da3a1b2</td>\n",
       "      <td>c_774459be08d5</td>\n",
       "      <td>0</td>\n",
       "      <td>3.0</td>\n",
       "    </tr>\n",
       "    <tr>\n",
       "      <th>2</th>\n",
       "      <td>t_00068291e9a4</td>\n",
       "      <td>c_639ea2ef9c95</td>\n",
       "      <td>1</td>\n",
       "      <td>3.0</td>\n",
       "    </tr>\n",
       "    <tr>\n",
       "      <th>3</th>\n",
       "      <td>t_00068291e9a4</td>\n",
       "      <td>c_152c0b174193</td>\n",
       "      <td>0</td>\n",
       "      <td>0.0</td>\n",
       "    </tr>\n",
       "    <tr>\n",
       "      <th>4</th>\n",
       "      <td>t_00069b63a70a</td>\n",
       "      <td>c_11a1dc0bfb99</td>\n",
       "      <td>1</td>\n",
       "      <td>3.0</td>\n",
       "    </tr>\n",
       "    <tr>\n",
       "      <th>...</th>\n",
       "      <td>...</td>\n",
       "      <td>...</td>\n",
       "      <td>...</td>\n",
       "      <td>...</td>\n",
       "    </tr>\n",
       "    <tr>\n",
       "      <th>123024</th>\n",
       "      <td>t_fffbe1d5d43c</td>\n",
       "      <td>c_0509c1059da0</td>\n",
       "      <td>0</td>\n",
       "      <td>2.0</td>\n",
       "    </tr>\n",
       "    <tr>\n",
       "      <th>123025</th>\n",
       "      <td>t_fffe14f1be1e</td>\n",
       "      <td>c_cece166bad6a</td>\n",
       "      <td>1</td>\n",
       "      <td>1.0</td>\n",
       "    </tr>\n",
       "    <tr>\n",
       "      <th>123026</th>\n",
       "      <td>t_fffe14f1be1e</td>\n",
       "      <td>c_f92cdc70f3d8</td>\n",
       "      <td>0</td>\n",
       "      <td>0.0</td>\n",
       "    </tr>\n",
       "    <tr>\n",
       "      <th>123027</th>\n",
       "      <td>t_fffe811a6da9</td>\n",
       "      <td>c_92b8fad372ee</td>\n",
       "      <td>1</td>\n",
       "      <td>3.0</td>\n",
       "    </tr>\n",
       "    <tr>\n",
       "      <th>123028</th>\n",
       "      <td>t_fffe811a6da9</td>\n",
       "      <td>c_9cc224cb4b0b</td>\n",
       "      <td>0</td>\n",
       "      <td>1.0</td>\n",
       "    </tr>\n",
       "  </tbody>\n",
       "</table>\n",
       "<p>123029 rows × 4 columns</p>\n",
       "</div>"
      ],
      "text/plain": [
       "              topic_id      content_id  match  fold\n",
       "0       t_00004da3a1b2  c_1108dd0c7a5d      1   1.0\n",
       "1       t_00004da3a1b2  c_774459be08d5      0   3.0\n",
       "2       t_00068291e9a4  c_639ea2ef9c95      1   3.0\n",
       "3       t_00068291e9a4  c_152c0b174193      0   0.0\n",
       "4       t_00069b63a70a  c_11a1dc0bfb99      1   3.0\n",
       "...                ...             ...    ...   ...\n",
       "123024  t_fffbe1d5d43c  c_0509c1059da0      0   2.0\n",
       "123025  t_fffe14f1be1e  c_cece166bad6a      1   1.0\n",
       "123026  t_fffe14f1be1e  c_f92cdc70f3d8      0   0.0\n",
       "123027  t_fffe811a6da9  c_92b8fad372ee      1   3.0\n",
       "123028  t_fffe811a6da9  c_9cc224cb4b0b      0   1.0\n",
       "\n",
       "[123029 rows x 4 columns]"
      ]
     },
     "execution_count": 43,
     "metadata": {},
     "output_type": "execute_result"
    }
   ],
   "source": [
    "df"
   ]
  },
  {
   "cell_type": "code",
   "execution_count": 46,
   "metadata": {},
   "outputs": [],
   "source": [
    "df['content_title'] = df['content_id'].map(content_id_title_map)\n",
    "df['topic_title'] = df['topic_id'].map(topic_id_title_map)"
   ]
  },
  {
   "cell_type": "code",
   "execution_count": 48,
   "metadata": {},
   "outputs": [
    {
     "data": {
      "text/html": [
       "<div>\n",
       "<style scoped>\n",
       "    .dataframe tbody tr th:only-of-type {\n",
       "        vertical-align: middle;\n",
       "    }\n",
       "\n",
       "    .dataframe tbody tr th {\n",
       "        vertical-align: top;\n",
       "    }\n",
       "\n",
       "    .dataframe thead th {\n",
       "        text-align: right;\n",
       "    }\n",
       "</style>\n",
       "<table border=\"1\" class=\"dataframe\">\n",
       "  <thead>\n",
       "    <tr style=\"text-align: right;\">\n",
       "      <th></th>\n",
       "      <th>topic_id</th>\n",
       "      <th>content_id</th>\n",
       "      <th>match</th>\n",
       "      <th>fold</th>\n",
       "      <th>content_title</th>\n",
       "      <th>topic_title</th>\n",
       "    </tr>\n",
       "  </thead>\n",
       "  <tbody>\n",
       "    <tr>\n",
       "      <th>0</th>\n",
       "      <td>t_00004da3a1b2</td>\n",
       "      <td>c_1108dd0c7a5d</td>\n",
       "      <td>1</td>\n",
       "      <td>1.0</td>\n",
       "      <td>Молив като резистор</td>\n",
       "      <td>Откриването на резисторите</td>\n",
       "    </tr>\n",
       "    <tr>\n",
       "      <th>1</th>\n",
       "      <td>t_00004da3a1b2</td>\n",
       "      <td>c_774459be08d5</td>\n",
       "      <td>0</td>\n",
       "      <td>3.0</td>\n",
       "      <td>A New Find</td>\n",
       "      <td>Откриването на резисторите</td>\n",
       "    </tr>\n",
       "    <tr>\n",
       "      <th>2</th>\n",
       "      <td>t_00068291e9a4</td>\n",
       "      <td>c_639ea2ef9c95</td>\n",
       "      <td>1</td>\n",
       "      <td>3.0</td>\n",
       "      <td>Dados e resultados de funções: gráficos</td>\n",
       "      <td>Entradas e saídas de uma função</td>\n",
       "    </tr>\n",
       "    <tr>\n",
       "      <th>3</th>\n",
       "      <td>t_00068291e9a4</td>\n",
       "      <td>c_152c0b174193</td>\n",
       "      <td>0</td>\n",
       "      <td>0.0</td>\n",
       "      <td>Operations on Functions</td>\n",
       "      <td>Entradas e saídas de uma função</td>\n",
       "    </tr>\n",
       "    <tr>\n",
       "      <th>4</th>\n",
       "      <td>t_00069b63a70a</td>\n",
       "      <td>c_11a1dc0bfb99</td>\n",
       "      <td>1</td>\n",
       "      <td>3.0</td>\n",
       "      <td>Flow Charts: Logical..: Written Transcript of ...</td>\n",
       "      <td>Transcripts</td>\n",
       "    </tr>\n",
       "    <tr>\n",
       "      <th>...</th>\n",
       "      <td>...</td>\n",
       "      <td>...</td>\n",
       "      <td>...</td>\n",
       "      <td>...</td>\n",
       "      <td>...</td>\n",
       "      <td>...</td>\n",
       "    </tr>\n",
       "    <tr>\n",
       "      <th>123024</th>\n",
       "      <td>t_fffbe1d5d43c</td>\n",
       "      <td>c_0509c1059da0</td>\n",
       "      <td>0</td>\n",
       "      <td>2.0</td>\n",
       "      <td>Inscribed shapes</td>\n",
       "      <td>Inscribed shapes problem solving</td>\n",
       "    </tr>\n",
       "    <tr>\n",
       "      <th>123025</th>\n",
       "      <td>t_fffe14f1be1e</td>\n",
       "      <td>c_cece166bad6a</td>\n",
       "      <td>1</td>\n",
       "      <td>1.0</td>\n",
       "      <td>Juego con las palabras</td>\n",
       "      <td>Lección 7</td>\n",
       "    </tr>\n",
       "    <tr>\n",
       "      <th>123026</th>\n",
       "      <td>t_fffe14f1be1e</td>\n",
       "      <td>c_f92cdc70f3d8</td>\n",
       "      <td>0</td>\n",
       "      <td>0.0</td>\n",
       "      <td>Lección 7</td>\n",
       "      <td>Lección 7</td>\n",
       "    </tr>\n",
       "    <tr>\n",
       "      <th>123027</th>\n",
       "      <td>t_fffe811a6da9</td>\n",
       "      <td>c_92b8fad372ee</td>\n",
       "      <td>1</td>\n",
       "      <td>3.0</td>\n",
       "      <td>التقييم</td>\n",
       "      <td>تحديد العلاقة بين الإحداثيّات القطبية والإحداث...</td>\n",
       "    </tr>\n",
       "    <tr>\n",
       "      <th>123028</th>\n",
       "      <td>t_fffe811a6da9</td>\n",
       "      <td>c_9cc224cb4b0b</td>\n",
       "      <td>0</td>\n",
       "      <td>1.0</td>\n",
       "      <td>Polar Forms and Calculus: Volume of a Revolution</td>\n",
       "      <td>تحديد العلاقة بين الإحداثيّات القطبية والإحداث...</td>\n",
       "    </tr>\n",
       "  </tbody>\n",
       "</table>\n",
       "<p>123029 rows × 6 columns</p>\n",
       "</div>"
      ],
      "text/plain": [
       "              topic_id      content_id  match  fold  \\\n",
       "0       t_00004da3a1b2  c_1108dd0c7a5d      1   1.0   \n",
       "1       t_00004da3a1b2  c_774459be08d5      0   3.0   \n",
       "2       t_00068291e9a4  c_639ea2ef9c95      1   3.0   \n",
       "3       t_00068291e9a4  c_152c0b174193      0   0.0   \n",
       "4       t_00069b63a70a  c_11a1dc0bfb99      1   3.0   \n",
       "...                ...             ...    ...   ...   \n",
       "123024  t_fffbe1d5d43c  c_0509c1059da0      0   2.0   \n",
       "123025  t_fffe14f1be1e  c_cece166bad6a      1   1.0   \n",
       "123026  t_fffe14f1be1e  c_f92cdc70f3d8      0   0.0   \n",
       "123027  t_fffe811a6da9  c_92b8fad372ee      1   3.0   \n",
       "123028  t_fffe811a6da9  c_9cc224cb4b0b      0   1.0   \n",
       "\n",
       "                                            content_title  \\\n",
       "0                                     Молив като резистор   \n",
       "1                                              A New Find   \n",
       "2                 Dados e resultados de funções: gráficos   \n",
       "3                                 Operations on Functions   \n",
       "4       Flow Charts: Logical..: Written Transcript of ...   \n",
       "...                                                   ...   \n",
       "123024                                   Inscribed shapes   \n",
       "123025                             Juego con las palabras   \n",
       "123026                                          Lección 7   \n",
       "123027                                            التقييم   \n",
       "123028   Polar Forms and Calculus: Volume of a Revolution   \n",
       "\n",
       "                                              topic_title  \n",
       "0                              Откриването на резисторите  \n",
       "1                              Откриването на резисторите  \n",
       "2                         Entradas e saídas de uma função  \n",
       "3                         Entradas e saídas de uma função  \n",
       "4                                             Transcripts  \n",
       "...                                                   ...  \n",
       "123024                   Inscribed shapes problem solving  \n",
       "123025                                          Lección 7  \n",
       "123026                                          Lección 7  \n",
       "123027  تحديد العلاقة بين الإحداثيّات القطبية والإحداث...  \n",
       "123028  تحديد العلاقة بين الإحداثيّات القطبية والإحداث...  \n",
       "\n",
       "[123029 rows x 6 columns]"
      ]
     },
     "execution_count": 48,
     "metadata": {},
     "output_type": "execute_result"
    }
   ],
   "source": [
    "df"
   ]
  },
  {
   "cell_type": "code",
   "execution_count": 49,
   "metadata": {},
   "outputs": [],
   "source": [
    "from sklearn.model_selection import StratifiedKFold"
   ]
  },
  {
   "cell_type": "code",
   "execution_count": 50,
   "metadata": {},
   "outputs": [],
   "source": [
    "kfold = StratifiedKFold(n_splits=4, shuffle=True, random_state=67)\n",
    "\n",
    "fold = 0\n",
    "for train_inds, val_inds in kfold.split(df, df['match']):\n",
    "    df.loc[val_inds, 'fold'] = fold\n",
    "    fold += 1"
   ]
  },
  {
   "cell_type": "code",
   "execution_count": 51,
   "metadata": {},
   "outputs": [
    {
     "data": {
      "text/plain": [
       "fold  match\n",
       "0.0   1        15380\n",
       "      0        15378\n",
       "1.0   1        15379\n",
       "      0        15378\n",
       "2.0   1        15379\n",
       "      0        15378\n",
       "3.0   1        15379\n",
       "      0        15378\n",
       "Name: match, dtype: int64"
      ]
     },
     "execution_count": 51,
     "metadata": {},
     "output_type": "execute_result"
    }
   ],
   "source": [
    "df.groupby('fold').match.value_counts()"
   ]
  },
  {
   "cell_type": "code",
   "execution_count": 52,
   "metadata": {},
   "outputs": [],
   "source": [
    "df.to_csv('data/fold_split.csv', index=False)"
   ]
  },
  {
   "cell_type": "code",
   "execution_count": null,
   "metadata": {},
   "outputs": [],
   "source": []
  },
  {
   "cell_type": "code",
   "execution_count": null,
   "metadata": {},
   "outputs": [],
   "source": []
  }
 ],
 "metadata": {
  "kernelspec": {
   "display_name": "ml",
   "language": "python",
   "name": "python3"
  },
  "language_info": {
   "codemirror_mode": {
    "name": "ipython",
    "version": 3
   },
   "file_extension": ".py",
   "mimetype": "text/x-python",
   "name": "python",
   "nbconvert_exporter": "python",
   "pygments_lexer": "ipython3",
   "version": "3.9.15"
  },
  "orig_nbformat": 4,
  "vscode": {
   "interpreter": {
    "hash": "173c56e242fabbd002700ac54f9247f261c65139f199f02ae0410ec0aa984669"
   }
  }
 },
 "nbformat": 4,
 "nbformat_minor": 2
}
